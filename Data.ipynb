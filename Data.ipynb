{
 "cells": [
  {
   "cell_type": "code",
   "execution_count": 26,
   "metadata": {
    "pycharm": {
     "name": "#%%\n"
    }
   },
   "outputs": [],
   "source": [
    "#导入数据处理所需的Python库\n",
    "import numpy as np\n",
    "import pandas as pd\n",
    "from IPython.core.interactiveshell import InteractiveShell\n",
    "InteractiveShell.ast_node_interactivity = \"all\"\n",
    "%matplotlib inline\n",
    "#导入数据\n",
    "RawData = pd.read_csv('COVID.csv')\n",
    "pd.set_option('max_row',400)"
   ]
  },
  {
   "cell_type": "code",
   "execution_count": 27,
   "metadata": {
    "pycharm": {
     "name": "#%%\n"
    }
   },
   "outputs": [
    {
     "data": {
      "text/plain": "                                        index  missNum\n0                                          Id        0\n1                                         Sex        0\n2                                         Age        0\n3                                    AgeGroup        0\n4                                   Education        0\n5                  FinancialSituation_General        0\n6                 FinancialSituation_Pandemic        0\n7                            IncomeContinuity      391\n8                                HealthStatus        0\n9                                  Unemployed        0\n10                                    Student        0\n11                    Pandemic_Difficulties_1        0\n12                    Pandemic_Difficulties_2        0\n13                    Pandemic_Difficulties_3        0\n14                    Pandemic_Difficulties_4        0\n15                    Pandemic_Difficulties_5        0\n16                    Pandemic_Difficulties_6        0\n17                    Pandemic_Difficulties_7        0\n18                    Pandemic_Difficulties_8        0\n19                    Pandemic_Difficulties_9        0\n20                   Pandemic_Difficulties_10        0\n21                   Pandemic_Difficulties_11        0\n22                   Pandemic_Difficulties_12        0\n23                   Pandemic_Difficulties_13        0\n24                   Pandemic_Difficulties_14        0\n25                   Pandemic_Difficulties_15        0\n26                   Pandemic_Difficulties_16        0\n27                                     Phq9_1        0\n28                                     Phq9_2        0\n29                                     Phq9_3        0\n30                                     Phq9_4        0\n31                                     Phq9_5        0\n32                                     Phq9_6        0\n33                                     Phq9_7        0\n34                                     Phq9_8        0\n35                                     Phq9_9        0\n36                                     Gad7_1        0\n37                                     Gad7_2        0\n38                                     Gad7_3        0\n39                                     Gad7_4        0\n40                                     Gad7_5        0\n41                                     Gad7_6        0\n42                                     Gad7_7        0\n43                             Covid19_risk_1        0\n44                             Covid19_risk_2        0\n45                             Covid19_risk_3        0\n46                             Covid19_risk_4        0\n47                             Covid19_risk_5        0\n48                             Covid19_risk_6        0\n49                            SocialSupport_1        0\n50                            SocialSupport_2        0\n51                            SocialSupport_3        0\n52                            SocialSupport_4        0\n53                            SocialSupport_5        0\n54                                   PHQ9_sum        0\n55                                   GAD7_sum        0\n56                    Lock_of_social_contacts        0\n57  Difficulties_in_relationships_and_at_home        0\n58                      External_restrictions        0\n59                           Fear_uncertainty        0\n60                         SocialSupport_mean        0\n61                       PercievedThreat_mean        0",
      "text/html": "<div>\n<style scoped>\n    .dataframe tbody tr th:only-of-type {\n        vertical-align: middle;\n    }\n\n    .dataframe tbody tr th {\n        vertical-align: top;\n    }\n\n    .dataframe thead th {\n        text-align: right;\n    }\n</style>\n<table border=\"1\" class=\"dataframe\">\n  <thead>\n    <tr style=\"text-align: right;\">\n      <th></th>\n      <th>index</th>\n      <th>missNum</th>\n    </tr>\n  </thead>\n  <tbody>\n    <tr>\n      <th>0</th>\n      <td>Id</td>\n      <td>0</td>\n    </tr>\n    <tr>\n      <th>1</th>\n      <td>Sex</td>\n      <td>0</td>\n    </tr>\n    <tr>\n      <th>2</th>\n      <td>Age</td>\n      <td>0</td>\n    </tr>\n    <tr>\n      <th>3</th>\n      <td>AgeGroup</td>\n      <td>0</td>\n    </tr>\n    <tr>\n      <th>4</th>\n      <td>Education</td>\n      <td>0</td>\n    </tr>\n    <tr>\n      <th>5</th>\n      <td>FinancialSituation_General</td>\n      <td>0</td>\n    </tr>\n    <tr>\n      <th>6</th>\n      <td>FinancialSituation_Pandemic</td>\n      <td>0</td>\n    </tr>\n    <tr>\n      <th>7</th>\n      <td>IncomeContinuity</td>\n      <td>391</td>\n    </tr>\n    <tr>\n      <th>8</th>\n      <td>HealthStatus</td>\n      <td>0</td>\n    </tr>\n    <tr>\n      <th>9</th>\n      <td>Unemployed</td>\n      <td>0</td>\n    </tr>\n    <tr>\n      <th>10</th>\n      <td>Student</td>\n      <td>0</td>\n    </tr>\n    <tr>\n      <th>11</th>\n      <td>Pandemic_Difficulties_1</td>\n      <td>0</td>\n    </tr>\n    <tr>\n      <th>12</th>\n      <td>Pandemic_Difficulties_2</td>\n      <td>0</td>\n    </tr>\n    <tr>\n      <th>13</th>\n      <td>Pandemic_Difficulties_3</td>\n      <td>0</td>\n    </tr>\n    <tr>\n      <th>14</th>\n      <td>Pandemic_Difficulties_4</td>\n      <td>0</td>\n    </tr>\n    <tr>\n      <th>15</th>\n      <td>Pandemic_Difficulties_5</td>\n      <td>0</td>\n    </tr>\n    <tr>\n      <th>16</th>\n      <td>Pandemic_Difficulties_6</td>\n      <td>0</td>\n    </tr>\n    <tr>\n      <th>17</th>\n      <td>Pandemic_Difficulties_7</td>\n      <td>0</td>\n    </tr>\n    <tr>\n      <th>18</th>\n      <td>Pandemic_Difficulties_8</td>\n      <td>0</td>\n    </tr>\n    <tr>\n      <th>19</th>\n      <td>Pandemic_Difficulties_9</td>\n      <td>0</td>\n    </tr>\n    <tr>\n      <th>20</th>\n      <td>Pandemic_Difficulties_10</td>\n      <td>0</td>\n    </tr>\n    <tr>\n      <th>21</th>\n      <td>Pandemic_Difficulties_11</td>\n      <td>0</td>\n    </tr>\n    <tr>\n      <th>22</th>\n      <td>Pandemic_Difficulties_12</td>\n      <td>0</td>\n    </tr>\n    <tr>\n      <th>23</th>\n      <td>Pandemic_Difficulties_13</td>\n      <td>0</td>\n    </tr>\n    <tr>\n      <th>24</th>\n      <td>Pandemic_Difficulties_14</td>\n      <td>0</td>\n    </tr>\n    <tr>\n      <th>25</th>\n      <td>Pandemic_Difficulties_15</td>\n      <td>0</td>\n    </tr>\n    <tr>\n      <th>26</th>\n      <td>Pandemic_Difficulties_16</td>\n      <td>0</td>\n    </tr>\n    <tr>\n      <th>27</th>\n      <td>Phq9_1</td>\n      <td>0</td>\n    </tr>\n    <tr>\n      <th>28</th>\n      <td>Phq9_2</td>\n      <td>0</td>\n    </tr>\n    <tr>\n      <th>29</th>\n      <td>Phq9_3</td>\n      <td>0</td>\n    </tr>\n    <tr>\n      <th>30</th>\n      <td>Phq9_4</td>\n      <td>0</td>\n    </tr>\n    <tr>\n      <th>31</th>\n      <td>Phq9_5</td>\n      <td>0</td>\n    </tr>\n    <tr>\n      <th>32</th>\n      <td>Phq9_6</td>\n      <td>0</td>\n    </tr>\n    <tr>\n      <th>33</th>\n      <td>Phq9_7</td>\n      <td>0</td>\n    </tr>\n    <tr>\n      <th>34</th>\n      <td>Phq9_8</td>\n      <td>0</td>\n    </tr>\n    <tr>\n      <th>35</th>\n      <td>Phq9_9</td>\n      <td>0</td>\n    </tr>\n    <tr>\n      <th>36</th>\n      <td>Gad7_1</td>\n      <td>0</td>\n    </tr>\n    <tr>\n      <th>37</th>\n      <td>Gad7_2</td>\n      <td>0</td>\n    </tr>\n    <tr>\n      <th>38</th>\n      <td>Gad7_3</td>\n      <td>0</td>\n    </tr>\n    <tr>\n      <th>39</th>\n      <td>Gad7_4</td>\n      <td>0</td>\n    </tr>\n    <tr>\n      <th>40</th>\n      <td>Gad7_5</td>\n      <td>0</td>\n    </tr>\n    <tr>\n      <th>41</th>\n      <td>Gad7_6</td>\n      <td>0</td>\n    </tr>\n    <tr>\n      <th>42</th>\n      <td>Gad7_7</td>\n      <td>0</td>\n    </tr>\n    <tr>\n      <th>43</th>\n      <td>Covid19_risk_1</td>\n      <td>0</td>\n    </tr>\n    <tr>\n      <th>44</th>\n      <td>Covid19_risk_2</td>\n      <td>0</td>\n    </tr>\n    <tr>\n      <th>45</th>\n      <td>Covid19_risk_3</td>\n      <td>0</td>\n    </tr>\n    <tr>\n      <th>46</th>\n      <td>Covid19_risk_4</td>\n      <td>0</td>\n    </tr>\n    <tr>\n      <th>47</th>\n      <td>Covid19_risk_5</td>\n      <td>0</td>\n    </tr>\n    <tr>\n      <th>48</th>\n      <td>Covid19_risk_6</td>\n      <td>0</td>\n    </tr>\n    <tr>\n      <th>49</th>\n      <td>SocialSupport_1</td>\n      <td>0</td>\n    </tr>\n    <tr>\n      <th>50</th>\n      <td>SocialSupport_2</td>\n      <td>0</td>\n    </tr>\n    <tr>\n      <th>51</th>\n      <td>SocialSupport_3</td>\n      <td>0</td>\n    </tr>\n    <tr>\n      <th>52</th>\n      <td>SocialSupport_4</td>\n      <td>0</td>\n    </tr>\n    <tr>\n      <th>53</th>\n      <td>SocialSupport_5</td>\n      <td>0</td>\n    </tr>\n    <tr>\n      <th>54</th>\n      <td>PHQ9_sum</td>\n      <td>0</td>\n    </tr>\n    <tr>\n      <th>55</th>\n      <td>GAD7_sum</td>\n      <td>0</td>\n    </tr>\n    <tr>\n      <th>56</th>\n      <td>Lock_of_social_contacts</td>\n      <td>0</td>\n    </tr>\n    <tr>\n      <th>57</th>\n      <td>Difficulties_in_relationships_and_at_home</td>\n      <td>0</td>\n    </tr>\n    <tr>\n      <th>58</th>\n      <td>External_restrictions</td>\n      <td>0</td>\n    </tr>\n    <tr>\n      <th>59</th>\n      <td>Fear_uncertainty</td>\n      <td>0</td>\n    </tr>\n    <tr>\n      <th>60</th>\n      <td>SocialSupport_mean</td>\n      <td>0</td>\n    </tr>\n    <tr>\n      <th>61</th>\n      <td>PercievedThreat_mean</td>\n      <td>0</td>\n    </tr>\n  </tbody>\n</table>\n</div>"
     },
     "execution_count": 27,
     "metadata": {},
     "output_type": "execute_result"
    }
   ],
   "source": [
    "#检查数据缺失情况\n",
    "missing = RawData.isnull().sum().reset_index().rename(columns= {0:'missNum'})\n",
    "pd.DataFrame(missing)"
   ]
  },
  {
   "cell_type": "code",
   "execution_count": 28,
   "outputs": [
    {
     "data": {
      "text/plain": "                             count  mean  std  min  25%  50%  75%  max\nIncomeContinuity_Umemployed  391.0   0.0  0.0  0.0  0.0  0.0  0.0  0.0",
      "text/html": "<div>\n<style scoped>\n    .dataframe tbody tr th:only-of-type {\n        vertical-align: middle;\n    }\n\n    .dataframe tbody tr th {\n        vertical-align: top;\n    }\n\n    .dataframe thead th {\n        text-align: right;\n    }\n</style>\n<table border=\"1\" class=\"dataframe\">\n  <thead>\n    <tr style=\"text-align: right;\">\n      <th></th>\n      <th>count</th>\n      <th>mean</th>\n      <th>std</th>\n      <th>min</th>\n      <th>25%</th>\n      <th>50%</th>\n      <th>75%</th>\n      <th>max</th>\n    </tr>\n  </thead>\n  <tbody>\n    <tr>\n      <th>IncomeContinuity_Umemployed</th>\n      <td>391.0</td>\n      <td>0.0</td>\n      <td>0.0</td>\n      <td>0.0</td>\n      <td>0.0</td>\n      <td>0.0</td>\n      <td>0.0</td>\n      <td>0.0</td>\n    </tr>\n  </tbody>\n</table>\n</div>"
     },
     "execution_count": 28,
     "metadata": {},
     "output_type": "execute_result"
    }
   ],
   "source": [
    "nanline = RawData.isnull().any(1)\n",
    "pd.DataFrame(RawData[nanline]['Unemployed'].describe().rename(index='IncomeContinuity_Umemployed')).T"
   ],
   "metadata": {
    "collapsed": false,
    "pycharm": {
     "name": "#%%\n"
    }
   }
  },
  {
   "cell_type": "code",
   "execution_count": 29,
   "metadata": {
    "pycharm": {
     "name": "#%%\n"
    }
   },
   "outputs": [],
   "source": [
    "#处理心理健康量表数据(PHQ9,GAD7)，并按PHQ-ADS标准分级\n",
    "RawData.drop(columns=['Phq9_1','Phq9_2','Phq9_3','Phq9_4','Phq9_5','Phq9_6','Phq9_7','Phq9_8','Phq9_9'],inplace=True)\n",
    "RawData.drop(columns=['Gad7_1','Gad7_2','Gad7_3','Gad7_4','Gad7_5','Gad7_6','Gad7_7'],inplace=True)\n",
    "RawData['Score_sum']=RawData['PHQ9_sum']+RawData['GAD7_sum']\n",
    "def scoreclassification(score):\n",
    "    if score <= 20:\n",
    "        return '0'\n",
    "    elif score <= 40:\n",
    "        return '1'\n",
    "#    elif score <= 30:\n",
    "#        return '2'\n",
    "    else:\n",
    "        return '2'\n",
    "RawData['Psy_Level']=RawData['Score_sum'].apply(lambda x:scoreclassification(x))\n",
    "RawData.drop(columns=['PHQ9_sum','GAD7_sum','Score_sum'],inplace=True)\n",
    "#处理社会支持量表和COVID-19感知风险量表数据\n",
    "#Covid19 risk scale\n",
    "# (i) COVID-19 infection;\n",
    "# (ii) serious adverse health effects and complications due to a coronavirus infection\n",
    "# (iii) life-threat as a result of the infection.\n",
    "RawData['SocialSupportmean']=(RawData['SocialSupport_1']+RawData['SocialSupport_2']+RawData['SocialSupport_3']+RawData['SocialSupport_4']+RawData['SocialSupport_5'])/5\n",
    "RawData['Covid19riskmean']=(RawData['Covid19_risk_1']+RawData['Covid19_risk_2']+RawData['Covid19_risk_3']+RawData['Covid19_risk_4']+RawData['Covid19_risk_5']+RawData['Covid19_risk_6'])/6\n",
    "RawData.drop(columns=['SocialSupport_1','SocialSupport_2','SocialSupport_3','SocialSupport_4','SocialSupport_5','Covid19_risk_1','Covid19_risk_2','Covid19_risk_3','Covid19_risk_4','Covid19_risk_5','Covid19_risk_6'],inplace=True)\n",
    "#计算疫情前后经济状况变化\n",
    "RawData['FinancialSituation_Change']=RawData['FinancialSituation_Pandemic']-RawData['FinancialSituation_General']\n",
    "RawData.drop(columns=['FinancialSituation_General','FinancialSituation_Pandemic'],inplace=True)\n",
    "#处理疫情困难量表数据\n",
    "#居家困扰[1-5,8]\n",
    "RawData['Home_Trouble']=(RawData['Pandemic_Difficulties_1']+RawData['Pandemic_Difficulties_2']+RawData['Pandemic_Difficulties_3']+RawData['Pandemic_Difficulties_4']+RawData['Pandemic_Difficulties_5']+RawData['Pandemic_Difficulties_8'])/6\n",
    "#社交限制[6,7,9]\n",
    "RawData['Social_Restrictions']=(RawData['Pandemic_Difficulties_6']+RawData['Pandemic_Difficulties_7']+RawData['Pandemic_Difficulties_9'])/3\n",
    "#防护措施和生活改变[10-13]\n",
    "RawData['Protection_and_Life_Change']=(RawData['Pandemic_Difficulties_10']+RawData['Pandemic_Difficulties_11']+RawData['Pandemic_Difficulties_12']+RawData['Pandemic_Difficulties_13'])/4\n",
    "#内心疑虑[14-16]\n",
    "RawData['Worry_and_Fear']=(RawData['Pandemic_Difficulties_14']+RawData['Pandemic_Difficulties_15']+RawData['Pandemic_Difficulties_16'])/3\n",
    "RawData.drop(columns=['Pandemic_Difficulties_1','Pandemic_Difficulties_2','Pandemic_Difficulties_3','Pandemic_Difficulties_4','Pandemic_Difficulties_5','Pandemic_Difficulties_6','Pandemic_Difficulties_7','Pandemic_Difficulties_8','Pandemic_Difficulties_9','Pandemic_Difficulties_10','Pandemic_Difficulties_11','Pandemic_Difficulties_12','Pandemic_Difficulties_13','Pandemic_Difficulties_14','Pandemic_Difficulties_15','Pandemic_Difficulties_16'],inplace=True)\n",
    "#去除多余变量\n",
    "RawData.drop(columns=['Id','Age','SocialSupport_mean','PercievedThreat_mean','Fear_uncertainty','External_restrictions','Difficulties_in_relationships_and_at_home','Lock_of_social_contacts'],inplace=True)"
   ]
  },
  {
   "cell_type": "code",
   "execution_count": 30,
   "metadata": {
    "pycharm": {
     "name": "#%%\n"
    }
   },
   "outputs": [
    {
     "data": {
      "text/plain": "  Psy_Level Sex AgeGroup Education IncomeContinuity HealthStatus Unemployed  \\\n0         0   0        2         3                0            3          1   \n1         1   1        1         6                1            3          0   \n2         0   0        3         3                1            2          0   \n3         1   1        2         6                0            2          0   \n4         0   1        3         3                0            2          1   \n\n  Student  SocialSupportmean  Covid19riskmean  FinancialSituation_Change  \\\n0       0                4.0         2.000000                         -3   \n1       0                3.6         3.000000                         -2   \n2       0                3.6         3.000000                         -1   \n3       0                2.4         2.166667                          1   \n4       0                3.4         3.000000                         -1   \n\n   Home_Trouble  Social_Restrictions  Protection_and_Life_Change  \\\n0      1.833333             1.333333                        1.75   \n1      2.500000             2.666667                        2.75   \n2      2.166667             2.000000                        2.75   \n3      2.000000             2.333333                        2.50   \n4      2.666667             2.333333                        2.00   \n\n   Worry_and_Fear  \n0        1.333333  \n1        2.333333  \n2        2.000000  \n3        2.000000  \n4        2.000000  ",
      "text/html": "<div>\n<style scoped>\n    .dataframe tbody tr th:only-of-type {\n        vertical-align: middle;\n    }\n\n    .dataframe tbody tr th {\n        vertical-align: top;\n    }\n\n    .dataframe thead th {\n        text-align: right;\n    }\n</style>\n<table border=\"1\" class=\"dataframe\">\n  <thead>\n    <tr style=\"text-align: right;\">\n      <th></th>\n      <th>Psy_Level</th>\n      <th>Sex</th>\n      <th>AgeGroup</th>\n      <th>Education</th>\n      <th>IncomeContinuity</th>\n      <th>HealthStatus</th>\n      <th>Unemployed</th>\n      <th>Student</th>\n      <th>SocialSupportmean</th>\n      <th>Covid19riskmean</th>\n      <th>FinancialSituation_Change</th>\n      <th>Home_Trouble</th>\n      <th>Social_Restrictions</th>\n      <th>Protection_and_Life_Change</th>\n      <th>Worry_and_Fear</th>\n    </tr>\n  </thead>\n  <tbody>\n    <tr>\n      <th>0</th>\n      <td>0</td>\n      <td>0</td>\n      <td>2</td>\n      <td>3</td>\n      <td>0</td>\n      <td>3</td>\n      <td>1</td>\n      <td>0</td>\n      <td>4.0</td>\n      <td>2.000000</td>\n      <td>-3</td>\n      <td>1.833333</td>\n      <td>1.333333</td>\n      <td>1.75</td>\n      <td>1.333333</td>\n    </tr>\n    <tr>\n      <th>1</th>\n      <td>1</td>\n      <td>1</td>\n      <td>1</td>\n      <td>6</td>\n      <td>1</td>\n      <td>3</td>\n      <td>0</td>\n      <td>0</td>\n      <td>3.6</td>\n      <td>3.000000</td>\n      <td>-2</td>\n      <td>2.500000</td>\n      <td>2.666667</td>\n      <td>2.75</td>\n      <td>2.333333</td>\n    </tr>\n    <tr>\n      <th>2</th>\n      <td>0</td>\n      <td>0</td>\n      <td>3</td>\n      <td>3</td>\n      <td>1</td>\n      <td>2</td>\n      <td>0</td>\n      <td>0</td>\n      <td>3.6</td>\n      <td>3.000000</td>\n      <td>-1</td>\n      <td>2.166667</td>\n      <td>2.000000</td>\n      <td>2.75</td>\n      <td>2.000000</td>\n    </tr>\n    <tr>\n      <th>3</th>\n      <td>1</td>\n      <td>1</td>\n      <td>2</td>\n      <td>6</td>\n      <td>0</td>\n      <td>2</td>\n      <td>0</td>\n      <td>0</td>\n      <td>2.4</td>\n      <td>2.166667</td>\n      <td>1</td>\n      <td>2.000000</td>\n      <td>2.333333</td>\n      <td>2.50</td>\n      <td>2.000000</td>\n    </tr>\n    <tr>\n      <th>4</th>\n      <td>0</td>\n      <td>1</td>\n      <td>3</td>\n      <td>3</td>\n      <td>0</td>\n      <td>2</td>\n      <td>1</td>\n      <td>0</td>\n      <td>3.4</td>\n      <td>3.000000</td>\n      <td>-1</td>\n      <td>2.666667</td>\n      <td>2.333333</td>\n      <td>2.00</td>\n      <td>2.000000</td>\n    </tr>\n  </tbody>\n</table>\n</div>"
     },
     "execution_count": 30,
     "metadata": {},
     "output_type": "execute_result"
    }
   ],
   "source": [
    "#修复IncomeContinuity变量的缺失值，填充为1\n",
    "RawData.fillna(1,inplace=True)\n",
    "RawData['IncomeContinuity'] = np.int_(RawData.IncomeContinuity)\n",
    "#更正变量数据类型\n",
    "RawData[['Sex','AgeGroup','Education','IncomeContinuity','HealthStatus','Unemployed','Student','Psy_Level']] = RawData[['Sex','AgeGroup','Education','IncomeContinuity','HealthStatus','Unemployed','Student','Psy_Level']].astype('category')\n",
    "#调整列顺序方便后续分析\n",
    "RawData = RawData[['Psy_Level','Sex','AgeGroup','Education','IncomeContinuity','HealthStatus','Unemployed','Student','SocialSupportmean','Covid19riskmean','FinancialSituation_Change','Home_Trouble','Social_Restrictions','Protection_and_Life_Change','Worry_and_Fear']]\n",
    "RawData.head()\n",
    "RawData.to_csv('D:/Python/PythonFile/HCC_Paper/Data.csv',index=False)\n"
   ]
  }
 ],
 "metadata": {
  "kernelspec": {
   "display_name": "Python 3",
   "language": "python",
   "name": "python3"
  },
  "language_info": {
   "codemirror_mode": {
    "name": "ipython",
    "version": 3
   },
   "file_extension": ".py",
   "mimetype": "text/x-python",
   "name": "python",
   "nbconvert_exporter": "python",
   "pygments_lexer": "ipython3",
   "version": "3.9.0"
  }
 },
 "nbformat": 4,
 "nbformat_minor": 1
}