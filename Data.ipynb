{
 "cells": [
  {
   "cell_type": "code",
   "execution_count": 22,
   "outputs": [],
   "source": [
    "#导入数据处理所需的Python库\n",
    "import numpy as np\n",
    "import pandas as pd\n",
    "from IPython.core.interactiveshell import InteractiveShell\n",
    "InteractiveShell.ast_node_interactivity = \"all\"\n",
    "%matplotlib inline\n",
    "#导入数据\n",
    "RawData = pd.read_csv('COVID.csv')"
   ],
   "metadata": {
    "collapsed": false,
    "pycharm": {
     "name": "#%%\n"
    }
   }
  },
  {
   "cell_type": "code",
   "execution_count": 23,
   "outputs": [
    {
     "data": {
      "text/plain": "              index  missNum\n7  IncomeContinuity      391",
      "text/html": "<div>\n<style scoped>\n    .dataframe tbody tr th:only-of-type {\n        vertical-align: middle;\n    }\n\n    .dataframe tbody tr th {\n        vertical-align: top;\n    }\n\n    .dataframe thead th {\n        text-align: right;\n    }\n</style>\n<table border=\"1\" class=\"dataframe\">\n  <thead>\n    <tr style=\"text-align: right;\">\n      <th></th>\n      <th>index</th>\n      <th>missNum</th>\n    </tr>\n  </thead>\n  <tbody>\n    <tr>\n      <th>7</th>\n      <td>IncomeContinuity</td>\n      <td>391</td>\n    </tr>\n  </tbody>\n</table>\n</div>"
     },
     "execution_count": 23,
     "metadata": {},
     "output_type": "execute_result"
    }
   ],
   "source": [
    "#检查数据缺失情况\n",
    "missing = RawData.isnull().sum().reset_index().rename(columns= {0:'missNum'})\n",
    "missing[missing.missNum>0]"
   ],
   "metadata": {
    "collapsed": false,
    "pycharm": {
     "name": "#%%\n"
    }
   }
  },
  {
   "cell_type": "code",
   "execution_count": 24,
   "outputs": [],
   "source": [
    "#处理心理健康量表数据(PHQ9,GAD7)，并按PHQ-ADS标准分级\n",
    "RawData.drop(columns=['Phq9_1','Phq9_2','Phq9_3','Phq9_4','Phq9_5','Phq9_6','Phq9_7','Phq9_8','Phq9_9'],inplace=True)\n",
    "RawData.drop(columns=['Gad7_1','Gad7_2','Gad7_3','Gad7_4','Gad7_5','Gad7_6','Gad7_7'],inplace=True)\n",
    "RawData['Score_sum']=RawData['PHQ9_sum']+RawData['GAD7_sum']\n",
    "def scoreclassification(score):\n",
    "    if score <= 20:\n",
    "        return '0'\n",
    "    elif score <= 40:\n",
    "        return '1'\n",
    "#    elif score <= 30:\n",
    "#        return '2'\n",
    "    else:\n",
    "        return '2'\n",
    "RawData['Psy_Level']=RawData['Score_sum'].apply(lambda x:scoreclassification(x))\n",
    "RawData.drop(columns=['PHQ9_sum','GAD7_sum','Score_sum'],inplace=True)\n",
    "#处理社会支持量表和COVID-19感知风险量表数据\n",
    "#Covid19 risk scale\n",
    "# (i) COVID-19 infection;\n",
    "# (ii) serious adverse health effects and complications due to a coronavirus infection\n",
    "# (iii) life-threat as a result of the infection.\n",
    "RawData['SocialSupport_sum']=RawData['SocialSupport_1']+RawData['SocialSupport_2']+RawData['SocialSupport_3']+RawData['SocialSupport_4']+RawData['SocialSupport_5']\n",
    "RawData['Covid19_risk_sum']=RawData['Covid19_risk_1']+RawData['Covid19_risk_2']+RawData['Covid19_risk_3']+RawData['Covid19_risk_4']+RawData['Covid19_risk_5']+RawData['Covid19_risk_6']\n",
    "RawData.drop(columns=['SocialSupport_1','SocialSupport_2','SocialSupport_3','SocialSupport_4','SocialSupport_5','Covid19_risk_1','Covid19_risk_2','Covid19_risk_3','Covid19_risk_4','Covid19_risk_5','Covid19_risk_6'],inplace=True)\n",
    "#计算疫情前后经济状况变化\n",
    "RawData['FinancialSituation_Change']=RawData['FinancialSituation_Pandemic']-RawData['FinancialSituation_General']\n",
    "RawData.drop(columns=['FinancialSituation_General','FinancialSituation_Pandemic'],inplace=True)\n",
    "#处理疫情困难量表数据\n",
    "#居家困扰[1-5,8]\n",
    "RawData['Home_Trouble']=(RawData['Pandemic_Difficulties_1']+RawData['Pandemic_Difficulties_2']+RawData['Pandemic_Difficulties_3']+RawData['Pandemic_Difficulties_4']+RawData['Pandemic_Difficulties_5']+RawData['Pandemic_Difficulties_8'])/6\n",
    "#社交限制[6,7,9]\n",
    "RawData['Social_Restrictions']=(RawData['Pandemic_Difficulties_6']+RawData['Pandemic_Difficulties_7']+RawData['Pandemic_Difficulties_9'])/3\n",
    "#防护措施和生活改变[10-13]\n",
    "RawData['Protection_and_Life_Change']=(RawData['Pandemic_Difficulties_10']+RawData['Pandemic_Difficulties_11']+RawData['Pandemic_Difficulties_12']+RawData['Pandemic_Difficulties_13'])/4\n",
    "#内心疑虑[14-16]\n",
    "RawData['Worry_and_Fear']=(RawData['Pandemic_Difficulties_14']+RawData['Pandemic_Difficulties_15']+RawData['Pandemic_Difficulties_16'])/3\n",
    "RawData.drop(columns=['Pandemic_Difficulties_1','Pandemic_Difficulties_2','Pandemic_Difficulties_3','Pandemic_Difficulties_4','Pandemic_Difficulties_5','Pandemic_Difficulties_6','Pandemic_Difficulties_7','Pandemic_Difficulties_8','Pandemic_Difficulties_9','Pandemic_Difficulties_10','Pandemic_Difficulties_11','Pandemic_Difficulties_12','Pandemic_Difficulties_13','Pandemic_Difficulties_14','Pandemic_Difficulties_15','Pandemic_Difficulties_16'],inplace=True)\n",
    "#去除多余变量\n",
    "RawData.drop(columns=['Id','Age','SocialSupport_mean','PercievedThreat_mean','Fear_uncertainty','External_restrictions','Difficulties_in_relationships_and_at_home','Lock_of_social_contacts'],inplace=True)"
   ],
   "metadata": {
    "collapsed": false,
    "pycharm": {
     "name": "#%%\n"
    }
   }
  },
  {
   "cell_type": "code",
   "execution_count": 25,
   "outputs": [
    {
     "data": {
      "text/plain": "  Psy_Level Sex AgeGroup Education IncomeContinuity HealthStatus Unemployed  \\\n0         0   0        2         3                0            3          1   \n1         1   1        1         6                1            3          0   \n2         0   0        3         3                1            2          0   \n3         1   1        2         6                0            2          0   \n4         0   1        3         3                0            2          1   \n\n  Student  SocialSupport_sum  Covid19_risk_sum  FinancialSituation_Change  \\\n0       0                 20                12                         -3   \n1       0                 18                18                         -2   \n2       0                 18                18                         -1   \n3       0                 12                13                          1   \n4       0                 17                18                         -1   \n\n   Home_Trouble  Social_Restrictions  Protection_and_Life_Change  \\\n0      1.833333             1.333333                        1.75   \n1      2.500000             2.666667                        2.75   \n2      2.166667             2.000000                        2.75   \n3      2.000000             2.333333                        2.50   \n4      2.666667             2.333333                        2.00   \n\n   Worry_and_Fear  \n0        1.333333  \n1        2.333333  \n2        2.000000  \n3        2.000000  \n4        2.000000  ",
      "text/html": "<div>\n<style scoped>\n    .dataframe tbody tr th:only-of-type {\n        vertical-align: middle;\n    }\n\n    .dataframe tbody tr th {\n        vertical-align: top;\n    }\n\n    .dataframe thead th {\n        text-align: right;\n    }\n</style>\n<table border=\"1\" class=\"dataframe\">\n  <thead>\n    <tr style=\"text-align: right;\">\n      <th></th>\n      <th>Psy_Level</th>\n      <th>Sex</th>\n      <th>AgeGroup</th>\n      <th>Education</th>\n      <th>IncomeContinuity</th>\n      <th>HealthStatus</th>\n      <th>Unemployed</th>\n      <th>Student</th>\n      <th>SocialSupport_sum</th>\n      <th>Covid19_risk_sum</th>\n      <th>FinancialSituation_Change</th>\n      <th>Home_Trouble</th>\n      <th>Social_Restrictions</th>\n      <th>Protection_and_Life_Change</th>\n      <th>Worry_and_Fear</th>\n    </tr>\n  </thead>\n  <tbody>\n    <tr>\n      <th>0</th>\n      <td>0</td>\n      <td>0</td>\n      <td>2</td>\n      <td>3</td>\n      <td>0</td>\n      <td>3</td>\n      <td>1</td>\n      <td>0</td>\n      <td>20</td>\n      <td>12</td>\n      <td>-3</td>\n      <td>1.833333</td>\n      <td>1.333333</td>\n      <td>1.75</td>\n      <td>1.333333</td>\n    </tr>\n    <tr>\n      <th>1</th>\n      <td>1</td>\n      <td>1</td>\n      <td>1</td>\n      <td>6</td>\n      <td>1</td>\n      <td>3</td>\n      <td>0</td>\n      <td>0</td>\n      <td>18</td>\n      <td>18</td>\n      <td>-2</td>\n      <td>2.500000</td>\n      <td>2.666667</td>\n      <td>2.75</td>\n      <td>2.333333</td>\n    </tr>\n    <tr>\n      <th>2</th>\n      <td>0</td>\n      <td>0</td>\n      <td>3</td>\n      <td>3</td>\n      <td>1</td>\n      <td>2</td>\n      <td>0</td>\n      <td>0</td>\n      <td>18</td>\n      <td>18</td>\n      <td>-1</td>\n      <td>2.166667</td>\n      <td>2.000000</td>\n      <td>2.75</td>\n      <td>2.000000</td>\n    </tr>\n    <tr>\n      <th>3</th>\n      <td>1</td>\n      <td>1</td>\n      <td>2</td>\n      <td>6</td>\n      <td>0</td>\n      <td>2</td>\n      <td>0</td>\n      <td>0</td>\n      <td>12</td>\n      <td>13</td>\n      <td>1</td>\n      <td>2.000000</td>\n      <td>2.333333</td>\n      <td>2.50</td>\n      <td>2.000000</td>\n    </tr>\n    <tr>\n      <th>4</th>\n      <td>0</td>\n      <td>1</td>\n      <td>3</td>\n      <td>3</td>\n      <td>0</td>\n      <td>2</td>\n      <td>1</td>\n      <td>0</td>\n      <td>17</td>\n      <td>18</td>\n      <td>-1</td>\n      <td>2.666667</td>\n      <td>2.333333</td>\n      <td>2.00</td>\n      <td>2.000000</td>\n    </tr>\n  </tbody>\n</table>\n</div>"
     },
     "execution_count": 25,
     "metadata": {},
     "output_type": "execute_result"
    }
   ],
   "source": [
    "#修复IncomeContinuity变量的缺失值，填充为1\n",
    "#RawData = RawData.dropna()\n",
    "RawData.fillna(1,inplace=True)\n",
    "RawData['IncomeContinuity'] = np.int_(RawData.IncomeContinuity)\n",
    "#更正变量数据类型\n",
    "RawData[['Sex','AgeGroup','Education','IncomeContinuity','HealthStatus','Unemployed','Student','Psy_Level']] = RawData[['Sex','AgeGroup','Education','IncomeContinuity','HealthStatus','Unemployed','Student','Psy_Level']].astype('category')\n",
    "#调整列顺序方便后续分析\n",
    "RawData = RawData[['Psy_Level','Sex','AgeGroup','Education','IncomeContinuity','HealthStatus','Unemployed','Student','SocialSupport_sum','Covid19_risk_sum','FinancialSituation_Change','Home_Trouble','Social_Restrictions','Protection_and_Life_Change','Worry_and_Fear']]\n",
    "RawData.head()\n",
    "RawData.to_csv('D:/Python/PythonFile/HCC_Paper/Data.csv',index=False)"
   ],
   "metadata": {
    "collapsed": false,
    "pycharm": {
     "name": "#%%\n"
    }
   }
  }
 ],
 "metadata": {
  "kernelspec": {
   "name": "python3",
   "language": "python",
   "display_name": "Python 3"
  },
  "language_info": {
   "codemirror_mode": {
    "name": "ipython",
    "version": 2
   },
   "file_extension": ".py",
   "mimetype": "text/x-python",
   "name": "python",
   "nbconvert_exporter": "python",
   "pygments_lexer": "ipython2",
   "version": "2.7.6"
  }
 },
 "nbformat": 4,
 "nbformat_minor": 0
}